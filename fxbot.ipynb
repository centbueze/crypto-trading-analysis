{
 "cells": [
  {
   "cell_type": "code",
   "execution_count": 1,
   "metadata": {},
   "outputs": [],
   "source": [
    "import yfinance as yf"
   ]
  },
  {
   "cell_type": "code",
   "execution_count": 2,
   "metadata": {},
   "outputs": [
    {
     "name": "stdout",
     "output_type": "stream",
     "text": [
      "YF.download() has changed argument auto_adjust default to True\n"
     ]
    },
    {
     "name": "stderr",
     "output_type": "stream",
     "text": [
      "[*********************100%***********************]  1 of 1 completed\n"
     ]
    }
   ],
   "source": [
    "data = yf.download('BTC-USD', start='2020-01-01', end='2025-01-01', interval='1d')"
   ]
  },
  {
   "cell_type": "code",
   "execution_count": 3,
   "metadata": {},
   "outputs": [
    {
     "data": {
      "text/html": [
       "<div>\n",
       "<style scoped>\n",
       "    .dataframe tbody tr th:only-of-type {\n",
       "        vertical-align: middle;\n",
       "    }\n",
       "\n",
       "    .dataframe tbody tr th {\n",
       "        vertical-align: top;\n",
       "    }\n",
       "\n",
       "    .dataframe thead tr th {\n",
       "        text-align: left;\n",
       "    }\n",
       "\n",
       "    .dataframe thead tr:last-of-type th {\n",
       "        text-align: right;\n",
       "    }\n",
       "</style>\n",
       "<table border=\"1\" class=\"dataframe\">\n",
       "  <thead>\n",
       "    <tr>\n",
       "      <th>Price</th>\n",
       "      <th>Close</th>\n",
       "      <th>High</th>\n",
       "      <th>Low</th>\n",
       "      <th>Open</th>\n",
       "      <th>Volume</th>\n",
       "    </tr>\n",
       "    <tr>\n",
       "      <th>Ticker</th>\n",
       "      <th>BTC-USD</th>\n",
       "      <th>BTC-USD</th>\n",
       "      <th>BTC-USD</th>\n",
       "      <th>BTC-USD</th>\n",
       "      <th>BTC-USD</th>\n",
       "    </tr>\n",
       "    <tr>\n",
       "      <th>Date</th>\n",
       "      <th></th>\n",
       "      <th></th>\n",
       "      <th></th>\n",
       "      <th></th>\n",
       "      <th></th>\n",
       "    </tr>\n",
       "  </thead>\n",
       "  <tbody>\n",
       "    <tr>\n",
       "      <th>2020-01-01</th>\n",
       "      <td>7200.174316</td>\n",
       "      <td>7254.330566</td>\n",
       "      <td>7174.944336</td>\n",
       "      <td>7194.892090</td>\n",
       "      <td>18565664997</td>\n",
       "    </tr>\n",
       "    <tr>\n",
       "      <th>2020-01-02</th>\n",
       "      <td>6985.470215</td>\n",
       "      <td>7212.155273</td>\n",
       "      <td>6935.270020</td>\n",
       "      <td>7202.551270</td>\n",
       "      <td>20802083465</td>\n",
       "    </tr>\n",
       "    <tr>\n",
       "      <th>2020-01-03</th>\n",
       "      <td>7344.884277</td>\n",
       "      <td>7413.715332</td>\n",
       "      <td>6914.996094</td>\n",
       "      <td>6984.428711</td>\n",
       "      <td>28111481032</td>\n",
       "    </tr>\n",
       "    <tr>\n",
       "      <th>2020-01-04</th>\n",
       "      <td>7410.656738</td>\n",
       "      <td>7427.385742</td>\n",
       "      <td>7309.514160</td>\n",
       "      <td>7345.375488</td>\n",
       "      <td>18444271275</td>\n",
       "    </tr>\n",
       "    <tr>\n",
       "      <th>2020-01-05</th>\n",
       "      <td>7411.317383</td>\n",
       "      <td>7544.497070</td>\n",
       "      <td>7400.535645</td>\n",
       "      <td>7410.451660</td>\n",
       "      <td>19725074095</td>\n",
       "    </tr>\n",
       "    <tr>\n",
       "      <th>...</th>\n",
       "      <td>...</td>\n",
       "      <td>...</td>\n",
       "      <td>...</td>\n",
       "      <td>...</td>\n",
       "      <td>...</td>\n",
       "    </tr>\n",
       "    <tr>\n",
       "      <th>2024-12-27</th>\n",
       "      <td>94164.859375</td>\n",
       "      <td>97294.843750</td>\n",
       "      <td>93310.742188</td>\n",
       "      <td>95704.976562</td>\n",
       "      <td>52419934565</td>\n",
       "    </tr>\n",
       "    <tr>\n",
       "      <th>2024-12-28</th>\n",
       "      <td>95163.929688</td>\n",
       "      <td>95525.898438</td>\n",
       "      <td>94014.289062</td>\n",
       "      <td>94160.187500</td>\n",
       "      <td>24107436185</td>\n",
       "    </tr>\n",
       "    <tr>\n",
       "      <th>2024-12-29</th>\n",
       "      <td>93530.226562</td>\n",
       "      <td>95174.875000</td>\n",
       "      <td>92881.789062</td>\n",
       "      <td>95174.054688</td>\n",
       "      <td>29635885267</td>\n",
       "    </tr>\n",
       "    <tr>\n",
       "      <th>2024-12-30</th>\n",
       "      <td>92643.210938</td>\n",
       "      <td>94903.320312</td>\n",
       "      <td>91317.132812</td>\n",
       "      <td>93527.195312</td>\n",
       "      <td>56188003691</td>\n",
       "    </tr>\n",
       "    <tr>\n",
       "      <th>2024-12-31</th>\n",
       "      <td>93429.203125</td>\n",
       "      <td>96090.601562</td>\n",
       "      <td>91914.031250</td>\n",
       "      <td>92643.250000</td>\n",
       "      <td>43625106843</td>\n",
       "    </tr>\n",
       "  </tbody>\n",
       "</table>\n",
       "<p>1827 rows × 5 columns</p>\n",
       "</div>"
      ],
      "text/plain": [
       "Price              Close          High           Low          Open  \\\n",
       "Ticker           BTC-USD       BTC-USD       BTC-USD       BTC-USD   \n",
       "Date                                                                 \n",
       "2020-01-01   7200.174316   7254.330566   7174.944336   7194.892090   \n",
       "2020-01-02   6985.470215   7212.155273   6935.270020   7202.551270   \n",
       "2020-01-03   7344.884277   7413.715332   6914.996094   6984.428711   \n",
       "2020-01-04   7410.656738   7427.385742   7309.514160   7345.375488   \n",
       "2020-01-05   7411.317383   7544.497070   7400.535645   7410.451660   \n",
       "...                  ...           ...           ...           ...   \n",
       "2024-12-27  94164.859375  97294.843750  93310.742188  95704.976562   \n",
       "2024-12-28  95163.929688  95525.898438  94014.289062  94160.187500   \n",
       "2024-12-29  93530.226562  95174.875000  92881.789062  95174.054688   \n",
       "2024-12-30  92643.210938  94903.320312  91317.132812  93527.195312   \n",
       "2024-12-31  93429.203125  96090.601562  91914.031250  92643.250000   \n",
       "\n",
       "Price            Volume  \n",
       "Ticker          BTC-USD  \n",
       "Date                     \n",
       "2020-01-01  18565664997  \n",
       "2020-01-02  20802083465  \n",
       "2020-01-03  28111481032  \n",
       "2020-01-04  18444271275  \n",
       "2020-01-05  19725074095  \n",
       "...                 ...  \n",
       "2024-12-27  52419934565  \n",
       "2024-12-28  24107436185  \n",
       "2024-12-29  29635885267  \n",
       "2024-12-30  56188003691  \n",
       "2024-12-31  43625106843  \n",
       "\n",
       "[1827 rows x 5 columns]"
      ]
     },
     "execution_count": 3,
     "metadata": {},
     "output_type": "execute_result"
    }
   ],
   "source": [
    "data"
   ]
  },
  {
   "cell_type": "code",
   "execution_count": 4,
   "metadata": {},
   "outputs": [
    {
     "name": "stdout",
     "output_type": "stream",
     "text": [
      "Price             Close         High          Low         Open       Volume\n",
      "Ticker          BTC-USD      BTC-USD      BTC-USD      BTC-USD      BTC-USD\n",
      "Date                                                                       \n",
      "2020-01-01  7200.174316  7254.330566  7174.944336  7194.892090  18565664997\n",
      "2020-01-02  6985.470215  7212.155273  6935.270020  7202.551270  20802083465\n",
      "2020-01-03  7344.884277  7413.715332  6914.996094  6984.428711  28111481032\n",
      "2020-01-04  7410.656738  7427.385742  7309.514160  7345.375488  18444271275\n",
      "2020-01-05  7411.317383  7544.497070  7400.535645  7410.451660  19725074095\n"
     ]
    }
   ],
   "source": [
    "print(data.head())"
   ]
  },
  {
   "cell_type": "code",
   "execution_count": 5,
   "metadata": {},
   "outputs": [
    {
     "name": "stdout",
     "output_type": "stream",
     "text": [
      "Price              Close          High           Low          Open  \\\n",
      "Ticker           BTC-USD       BTC-USD       BTC-USD       BTC-USD   \n",
      "Date                                                                 \n",
      "2024-12-27  94164.859375  97294.843750  93310.742188  95704.976562   \n",
      "2024-12-28  95163.929688  95525.898438  94014.289062  94160.187500   \n",
      "2024-12-29  93530.226562  95174.875000  92881.789062  95174.054688   \n",
      "2024-12-30  92643.210938  94903.320312  91317.132812  93527.195312   \n",
      "2024-12-31  93429.203125  96090.601562  91914.031250  92643.250000   \n",
      "\n",
      "Price            Volume  \n",
      "Ticker          BTC-USD  \n",
      "Date                     \n",
      "2024-12-27  52419934565  \n",
      "2024-12-28  24107436185  \n",
      "2024-12-29  29635885267  \n",
      "2024-12-30  56188003691  \n",
      "2024-12-31  43625106843  \n"
     ]
    }
   ],
   "source": [
    "print(data.tail())"
   ]
  },
  {
   "cell_type": "code",
   "execution_count": 6,
   "metadata": {},
   "outputs": [
    {
     "name": "stderr",
     "output_type": "stream",
     "text": [
      "C:\\Users\\user\\AppData\\Local\\Temp\\ipykernel_16328\\1975493952.py:6: SettingWithCopyWarning: \n",
      "A value is trying to be set on a copy of a slice from a DataFrame\n",
      "\n",
      "See the caveats in the documentation: https://pandas.pydata.org/pandas-docs/stable/user_guide/indexing.html#returning-a-view-versus-a-copy\n",
      "  data['Signal'][data['SMA_short'] > data['SMA_long']] = 1\n",
      "C:\\Users\\user\\AppData\\Local\\Temp\\ipykernel_16328\\1975493952.py:6: SettingWithCopyWarning: \n",
      "A value is trying to be set on a copy of a slice from a DataFrame\n",
      "\n",
      "See the caveats in the documentation: https://pandas.pydata.org/pandas-docs/stable/user_guide/indexing.html#returning-a-view-versus-a-copy\n",
      "  data['Signal'][data['SMA_short'] > data['SMA_long']] = 1\n",
      "C:\\Users\\user\\AppData\\Local\\Temp\\ipykernel_16328\\1975493952.py:7: SettingWithCopyWarning: \n",
      "A value is trying to be set on a copy of a slice from a DataFrame\n",
      "\n",
      "See the caveats in the documentation: https://pandas.pydata.org/pandas-docs/stable/user_guide/indexing.html#returning-a-view-versus-a-copy\n",
      "  data['Signal'][data['SMA_short'] < data['SMA_long']] = -1\n",
      "C:\\Users\\user\\AppData\\Local\\Temp\\ipykernel_16328\\1975493952.py:7: SettingWithCopyWarning: \n",
      "A value is trying to be set on a copy of a slice from a DataFrame\n",
      "\n",
      "See the caveats in the documentation: https://pandas.pydata.org/pandas-docs/stable/user_guide/indexing.html#returning-a-view-versus-a-copy\n",
      "  data['Signal'][data['SMA_short'] < data['SMA_long']] = -1\n"
     ]
    }
   ],
   "source": [
    "data['SMA_short'] = data['Close'].rolling(window=50).mean()  \n",
    "data['SMA_long'] = data['Close'].rolling(window=200).mean()  \n",
    "\n",
    "\n",
    "data['Signal'] = 0\n",
    "data['Signal'][data['SMA_short'] > data['SMA_long']] = 1  \n",
    "data['Signal'][data['SMA_short'] < data['SMA_long']] = -1 \n",
    "\n",
    "\n",
    "data['Position'] = data['Signal'].shift(1)  \n",
    "data['Returns'] = data['Close'].pct_change()  \n",
    "data['Strategy'] = data['Returns'] * data['Position']  "
   ]
  },
  {
   "cell_type": "code",
   "execution_count": 7,
   "metadata": {},
   "outputs": [],
   "source": [
    "data['Cumulative_returns'] = (1 + data['Strategy']).cumprod()"
   ]
  },
  {
   "cell_type": "code",
   "execution_count": 8,
   "metadata": {},
   "outputs": [
    {
     "data": {
      "image/png": "[encoded data removed]",
      "text/plain": [
       "<Figure size 640x480 with 1 Axes>"
      ]
     },
     "metadata": {},
     "output_type": "display_data"
    }
   ],
   "source": [
    "import matplotlib.pyplot as plt\n",
    "plt.plot(data['Cumulative_returns'])\n",
    "plt.title('Cumulative Strategy Returns')\n",
    "plt.xlabel('Date')\n",
    "plt.ylabel('Cumulative Return')\n",
    "plt.show()"
   ]
  },
  {
   "cell_type": "code",
   "execution_count": 9,
   "metadata": {},
   "outputs": [
    {
     "name": "stdout",
     "output_type": "stream",
     "text": [
      "Final Cumulative Return: 1.0\n"
     ]
    }
   ],
   "source": [
    "print(f\"Final Cumulative Return: {data['Cumulative_returns'].iloc[-1]}\")"
   ]
  },
  {
   "cell_type": "code",
   "execution_count": 10,
   "metadata": {},
   "outputs": [],
   "source": [
    "from binance.client import Client"
   ]
  },
  {
   "cell_type": "code",
   "execution_count": 11,
   "metadata": {},
   "outputs": [],
   "source": [
    "api_key = 'k29xG1d2VmWWg3QuQnaNdeVHHAWphxv7EKBAzPrFCSG4cyMEzeE4EhrRcjHW7mf0'\n",
    "api_secret = 'kecXb0jFc9WnPj6J0FFzdAoyJdH7Hi00F7aKqbXcFhFg6wfsmXK82us1dHFLXSS1'"
   ]
  },
  {
   "cell_type": "code",
   "execution_count": 12,
   "metadata": {},
   "outputs": [],
   "source": [
    "client = Client(api_key, api_secret)"
   ]
  },
  {
   "cell_type": "code",
   "execution_count": 13,
   "metadata": {},
   "outputs": [
    {
     "name": "stdout",
     "output_type": "stream",
     "text": [
      "Current price of BTCUSDT: 83579.38000000\n"
     ]
    }
   ],
   "source": [
    "symbol = 'BTCUSDT'\n",
    "price = client.get_symbol_ticker(symbol=symbol)\n",
    "print(f\"Current price of {symbol}: {price['price']}\")"
   ]
  },
  {
   "cell_type": "code",
   "execution_count": 14,
   "metadata": {},
   "outputs": [],
   "source": [
    "import hmac\n",
    "import hashlib\n",
    "import time\n",
    "import sys\n",
    "import requests\n",
    "import pandas as pd\n",
    "from numpy import nan as npNaN\n",
    "import numpy as np\n"
   ]
  },
  {
   "cell_type": "code",
   "execution_count": 17,
   "metadata": {},
   "outputs": [
    {
     "ename": "ModuleNotFoundError",
     "evalue": "No module named 'pkg_resources'",
     "output_type": "error",
     "traceback": [
      "\u001b[31m---------------------------------------------------------------------------\u001b[39m",
      "\u001b[31mModuleNotFoundError\u001b[39m                       Traceback (most recent call last)",
      "\u001b[36mCell\u001b[39m\u001b[36m \u001b[39m\u001b[32mIn[17]\u001b[39m\u001b[32m, line 3\u001b[39m\n\u001b[32m      1\u001b[39m sys.modules[\u001b[33m'\u001b[39m\u001b[33mnumpy\u001b[39m\u001b[33m'\u001b[39m].NaN = np.nan\n\u001b[32m----> \u001b[39m\u001b[32m3\u001b[39m \u001b[38;5;28;01mimport\u001b[39;00m\u001b[38;5;250m \u001b[39m\u001b[34;01mpandas_ta\u001b[39;00m\u001b[38;5;250m \u001b[39m\u001b[38;5;28;01mas\u001b[39;00m\u001b[38;5;250m \u001b[39m\u001b[34;01mta\u001b[39;00m\n",
      "\u001b[36mFile \u001b[39m\u001b[32mc:\\Users\\user\\Desktop\\fxbot\\flask-env\\Lib\\site-packages\\pandas_ta\\__init__.py:7\u001b[39m\n\u001b[32m      5\u001b[39m \u001b[38;5;28;01mfrom\u001b[39;00m\u001b[38;5;250m \u001b[39m\u001b[34;01mimportlib\u001b[39;00m\u001b[34;01m.\u001b[39;00m\u001b[34;01mutil\u001b[39;00m\u001b[38;5;250m \u001b[39m\u001b[38;5;28;01mimport\u001b[39;00m find_spec\n\u001b[32m      6\u001b[39m \u001b[38;5;28;01mfrom\u001b[39;00m\u001b[38;5;250m \u001b[39m\u001b[34;01mpathlib\u001b[39;00m\u001b[38;5;250m \u001b[39m\u001b[38;5;28;01mimport\u001b[39;00m Path\n\u001b[32m----> \u001b[39m\u001b[32m7\u001b[39m \u001b[38;5;28;01mfrom\u001b[39;00m\u001b[38;5;250m \u001b[39m\u001b[34;01mpkg_resources\u001b[39;00m\u001b[38;5;250m \u001b[39m\u001b[38;5;28;01mimport\u001b[39;00m get_distribution, DistributionNotFound\n\u001b[32m     10\u001b[39m _dist = get_distribution(\u001b[33m\"\u001b[39m\u001b[33mpandas_ta\u001b[39m\u001b[33m\"\u001b[39m)\n\u001b[32m     11\u001b[39m \u001b[38;5;28;01mtry\u001b[39;00m:\n\u001b[32m     12\u001b[39m     \u001b[38;5;66;03m# Normalize case for Windows systems\u001b[39;00m\n",
      "\u001b[31mModuleNotFoundError\u001b[39m: No module named 'pkg_resources'"
     ]
    }
   ],
   "source": [
    "sys.modules['numpy'].NaN = np.nan\n",
    "\n",
    "import pandas_ta as ta"
   ]
  },
  {
   "cell_type": "code",
   "execution_count": null,
   "metadata": {},
   "outputs": [],
   "source": [
    "api_key = \"8WqKUQl04b7kQEw7yYTDqw630AgRz3ZvWEAXebQdbFAtESoMSpBrY6qzETLeHlcF\"\n",
    "api_secret = \"8OuGjqM6hZcmIk0TB43DurSRXZQql6CfVrJy240BZk1DTcBkMRhNnKVZbS9AXEKF\""
   ]
  },
  {
   "cell_type": "code",
   "execution_count": null,
   "metadata": {},
   "outputs": [],
   "source": [
    "BASE_URL = 'https://api.binance.com'\n",
    "KLINES_ENDPOINT = '/api/v3/klines'\n",
    "TICKER_PRICE_ENDPOINT = '/api/v3/ticker/price'"
   ]
  },
  {
   "cell_type": "code",
   "execution_count": null,
   "metadata": {},
   "outputs": [],
   "source": [
    "def create_signed_request(api_secret, params):\n",
    "    query_string = '&'.join([f\"{key}={value}\" for key, value in params.items()])\n",
    "    signature = hmac.new(api_secret.encode('utf-8'), query_string.encode('utf-8'), hashlib.sha256).hexdigest()\n",
    "    return f\"{query_string}&signature={signature}\""
   ]
  },
  {
   "cell_type": "code",
   "execution_count": null,
   "metadata": {},
   "outputs": [],
   "source": [
    "def get_historical_data(symbol, interval, limit=100):\n",
    "    url = f\"{BASE_URL}{KLINES_ENDPOINT}\"\n",
    "    params = {\n",
    "        'symbol': symbol,\n",
    "        'interval': interval,\n",
    "        'limit': limit\n",
    "    }\n",
    "    response = requests.get(url, params=params)\n",
    "    if response.status_code == 200:\n",
    "        data = response.json()\n",
    "        \n",
    "        columns = ['timestamp', 'open', 'high', 'low', 'close', 'volume', \n",
    "                   'close_time', 'quote_asset_volume', 'trades', 'taker_buy_base', 'taker_buy_quote', 'ignore']\n",
    "        df = pd.DataFrame(data, columns=columns)\n",
    "        df['close'] = df['close'].astype(float)\n",
    "        return df\n",
    "    else:\n",
    "        print(f\"Error fetching data: {response.status_code}\")\n",
    "        return None"
   ]
  },
  {
   "cell_type": "code",
   "execution_count": null,
   "metadata": {},
   "outputs": [],
   "source": [
    "\n",
    "def get_current_price(symbol):\n",
    "    url = f\"{BASE_URL}{TICKER_PRICE_ENDPOINT}\"\n",
    "    params = {'symbol': symbol}\n",
    "    response = requests.get(url, params=params)\n",
    "    if response.status_code == 200:\n",
    "        return float(response.json()['price'])\n",
    "    else:\n",
    "        print(f\"Error fetching price: {response.status_code}\")\n",
    "        return None\n"
   ]
  },
  {
   "cell_type": "code",
   "execution_count": null,
   "metadata": {},
   "outputs": [],
   "source": [
    "def perform_analysis(df):\n",
    "  \n",
    "    numeric_columns = ['open', 'high', 'low', 'close', 'volume']\n",
    "    for col in numeric_columns:\n",
    "        df[col] = pd.to_numeric(df[col], errors='coerce')\n",
    "    \n",
    "  \n",
    "    df['rsi'] = ta.rsi(df['close'], length=14)\n",
    "    df['sma'] = ta.sma(df['close'], length=20)\n",
    "    df['ema'] = ta.ema(df['close'], length=50)\n",
    "    df['macd'] = ta.macd(df['close'])['MACD_12_26_9']\n",
    "    df['macd_signal'] = ta.macd(df['close'])['MACDh_12_26_9']\n",
    "    df['stoch'] = ta.stoch(df['high'], df['low'], df['close'])['STOCHk_14_3_3']\n",
    "    df['atr'] = ta.atr(df['high'], df['low'], df['close'], length=14)\n",
    "    \n",
    "   \n",
    "    df['support'] = df['low'].rolling(window=14, min_periods=1).min()\n",
    "    df['resistance'] = df['high'].rolling(window=14, min_periods=1).max()\n",
    "    \n",
    "   \n",
    "    recent_high = df['high'].rolling(window=14, min_periods=1).max()\n",
    "    recent_low = df['low'].rolling(window=14, min_periods=1).min()\n",
    "    df['fib_23.6'] = recent_high - (recent_high - recent_low) * 0.236\n",
    "    df['fib_38.2'] = recent_high - (recent_high - recent_low) * 0.382\n",
    "    df['fib_50.0'] = recent_high - (recent_high - recent_low) * 0.5\n",
    "    df['fib_61.8'] = recent_high - (recent_high - recent_low) * 0.618\n",
    "    \n",
    "    return df"
   ]
  },
  {
   "cell_type": "code",
   "execution_count": null,
   "metadata": {},
   "outputs": [],
   "source": [
    "\n",
    "def recommend_trade(df):\n",
    "    latest_data = df.iloc[-1]\n",
    "    recommendation = None\n",
    "\n",
    "   \n",
    "    if latest_data['rsi'] < 30 and latest_data['close'] > latest_data['sma']:\n",
    "        entry = latest_data['close']\n",
    "        stop_loss = latest_data['sma']\n",
    "        take_profit = entry + (entry - stop_loss) * 2\n",
    "        reason = \"RSI indicates oversold conditions, and price is above SMA.\"\n",
    "        recommendation = {\n",
    "            'strategy': 'RSI + SMA Crossover',\n",
    "            'entry': entry,\n",
    "            'stop_loss': stop_loss,\n",
    "            'take_profit': take_profit,\n",
    "            'reason': reason\n",
    "        }\n",
    "\n",
    " \n",
    "    elif latest_data['macd'] > latest_data['macd_signal'] and df['macd'].iloc[-2] <= df['macd_signal'].iloc[-2]:\n",
    "        entry = latest_data['close']\n",
    "        stop_loss = entry - latest_data['atr'] * 1.5\n",
    "        take_profit = entry + latest_data['atr'] * 3\n",
    "        reason = \"MACD crossover indicates bullish momentum.\"\n",
    "        recommendation = {\n",
    "            'strategy': 'MACD Crossover',\n",
    "            'entry': entry,\n",
    "            'stop_loss': stop_loss,\n",
    "            'take_profit': take_profit,\n",
    "            'reason': reason\n",
    "        }\n",
    "\n",
    "   \n",
    "    elif latest_data['close'] > latest_data['fib_38.2'] and latest_data['close'] < latest_data['fib_61.8']:\n",
    "        entry = latest_data['close']\n",
    "        stop_loss = latest_data['fib_23.6']\n",
    "        take_profit = latest_data['fib_61.8']\n",
    "        reason = \"Price is bouncing from the 38.2% Fibonacci level.\"\n",
    "        recommendation = {\n",
    "            'strategy': 'Fibonacci Retracement Bounce',\n",
    "            'entry': entry,\n",
    "            'stop_loss': stop_loss,\n",
    "            'take_profit': take_profit,\n",
    "            'reason': reason\n",
    "        }\n",
    "\n",
    "    return recommendation"
   ]
  },
  {
   "cell_type": "code",
   "execution_count": null,
   "metadata": {},
   "outputs": [],
   "source": [
    "def explain_recommendation(df, recommendation):\n",
    "    latest_data = df.iloc[-1]\n",
    "    explanation = (\n",
    "        f\"Current Price: {latest_data['close']}\\n\"\n",
    "        f\"RSI: {latest_data['rsi']} (Oversold: <30, Overbought: >70)\\n\"\n",
    "        f\"SMA (20): {latest_data['sma']}\\n\"\n",
    "        f\"MACD: {latest_data['macd']}\\n\"\n",
    "        f\"ATR: {latest_data['atr']}\\n\"\n",
    "        f\"Support: {latest_data['support']}\\n\"\n",
    "        f\"Resistance: {latest_data['resistance']}\\n\"\n",
    "        f\"Fibonacci Levels (23.6%, 38.2%, 50%, 61.8%): \"\n",
    "        f\"{latest_data['fib_23.6']}, {latest_data['fib_38.2']}, {latest_data['fib_50.0']}, {latest_data['fib_61.8']}\\n\"\n",
    "    )\n",
    "\n",
    "    if recommendation:\n",
    "        explanation += (\n",
    "            f\"\\nRecommendation:\\n\"\n",
    "            f\"- Strategy: {recommendation['strategy']}\\n\"\n",
    "            f\"- Entry: {recommendation['entry']}\\n\"\n",
    "            f\"- Stop-Loss: {recommendation['stop_loss']}\\n\"\n",
    "            f\"- Take-Profit: {recommendation['take_profit']}\\n\"\n",
    "            f\"- Reason: {recommendation['reason']}\\n\"\n",
    "        )\n",
    "    else:\n",
    "        explanation += \"\\nNo trade recommendation: Market conditions do not meet any strategy criteria.\"\n",
    "\n",
    "    return explanation"
   ]
  }
 ],
 "metadata": {
  "kernelspec": {
   "display_name": "Python 3",
   "language": "python",
   "name": "python3"
  },
  "language_info": {
   "codemirror_mode": {
    "name": "ipython",
    "version": 3
   },
   "file_extension": ".py",
   "mimetype": "text/x-python",
   "name": "python",
   "nbconvert_exporter": "python",
   "pygments_lexer": "ipython3",
   "version": "3.13.1"
  }
 },
 "nbformat": 4,
 "nbformat_minor": 2
}
